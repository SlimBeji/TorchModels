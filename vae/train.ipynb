{
 "cells": [
  {
   "cell_type": "markdown",
   "id": "697a3840",
   "metadata": {},
   "source": [
    "# Working Directory"
   ]
  },
  {
   "cell_type": "code",
   "execution_count": 1,
   "id": "6ad2c2e4",
   "metadata": {},
   "outputs": [],
   "source": [
    "import os\n",
    "os.chdir(os.pardir)"
   ]
  },
  {
   "cell_type": "markdown",
   "id": "8878ddda",
   "metadata": {},
   "source": [
    "# Imports"
   ]
  },
  {
   "cell_type": "code",
   "execution_count": 2,
   "id": "e1b467d1-20bc-4795-8c3e-949c183ed4b7",
   "metadata": {},
   "outputs": [],
   "source": [
    "from pathlib import Path\n",
    "\n",
    "import matplotlib.pyplot as plt"
   ]
  },
  {
   "cell_type": "code",
   "execution_count": 3,
   "id": "fa03097e-0d9b-4e71-a5c7-75ace832fe3f",
   "metadata": {},
   "outputs": [],
   "source": [
    "import torch\n",
    "import torch.optim as optim\n",
    "from torchvision import datasets, transforms\n"
   ]
  },
  {
   "cell_type": "code",
   "execution_count": 4,
   "id": "09b5ed88",
   "metadata": {},
   "outputs": [],
   "source": [
    "from vae.utils import display_random_image, print_model, show_tensor\n",
    "from vae.dataset import get_dataloaders\n",
    "from vae.model import VAE\n",
    "from vae.loss import VAELoss\n",
    "from vae.engine import train_model\n",
    "from vae.inference import encode_decode, encode, decode"
   ]
  },
  {
   "cell_type": "markdown",
   "id": "5842b6a2-e21c-4b5c-aa11-5ed5617a18f9",
   "metadata": {},
   "source": [
    "# Config"
   ]
  },
  {
   "cell_type": "code",
   "execution_count": 5,
   "id": "e8cd7b4f-7102-42ac-8880-acae210217a4",
   "metadata": {},
   "outputs": [
    {
     "data": {
      "text/plain": [
       "'cuda'"
      ]
     },
     "execution_count": 5,
     "metadata": {},
     "output_type": "execute_result"
    }
   ],
   "source": [
    "DEVICE = \"cuda\" if torch.cuda.is_available() else \"cpu\"\n",
    "torch.set_default_device(DEVICE)\n",
    "DEVICE"
   ]
  },
  {
   "cell_type": "code",
   "execution_count": 9,
   "id": "0f7030b5-08d7-45a0-a8c6-b856c895d166",
   "metadata": {},
   "outputs": [],
   "source": [
    "ROOT_PATH = Path(\"vae\")\n",
    "DATASET_PATH = ROOT_PATH / \"data\""
   ]
  },
  {
   "cell_type": "markdown",
   "id": "5e005237-bc71-4938-9f38-f65eb7843d9c",
   "metadata": {},
   "source": [
    "# Hyperparameters"
   ]
  },
  {
   "cell_type": "code",
   "execution_count": 10,
   "id": "062ae4a4-dcd0-4138-908b-bee607cbd75c",
   "metadata": {},
   "outputs": [],
   "source": [
    "raw_dataset = datasets.MNIST(DATASET_PATH, train=True, download=True)"
   ]
  },
  {
   "cell_type": "code",
   "execution_count": 11,
   "id": "567fafaf-7123-434d-b1ca-8624a8027d5c",
   "metadata": {},
   "outputs": [],
   "source": [
    "pil_img, _ = raw_dataset[0]"
   ]
  },
  {
   "cell_type": "code",
   "execution_count": 12,
   "id": "b9af871c-be08-4c68-82a6-08164a325ea1",
   "metadata": {},
   "outputs": [
    {
     "data": {
      "text/plain": [
       "torch.Size([1, 28, 28])"
      ]
     },
     "execution_count": 12,
     "metadata": {},
     "output_type": "execute_result"
    }
   ],
   "source": [
    "random_img = transforms.ToTensor()(pil_img)\n",
    "random_img.shape"
   ]
  },
  {
   "cell_type": "code",
   "execution_count": 13,
   "id": "79201f19-d01a-4903-846e-8505ede18e74",
   "metadata": {},
   "outputs": [],
   "source": [
    "IMSIZE = random_img.shape[-1]\n",
    "N_CHANNELS = random_img.shape[0]\n",
    "N_CLASSES = len(raw_dataset.classes)\n",
    "EPOCHS = 20\n",
    "BATCH_SIZE = 128\n",
    "LEARNING = 0.002"
   ]
  },
  {
   "cell_type": "markdown",
   "id": "8ea428e4-5363-474c-943e-8593ff0eb93e",
   "metadata": {},
   "source": [
    "# Dataset"
   ]
  },
  {
   "cell_type": "code",
   "execution_count": 14,
   "id": "ef9e8a1d-0992-44da-ada0-48fbfefdb128",
   "metadata": {},
   "outputs": [],
   "source": [
    "train_dataloader, test_dataloader = get_dataloaders(\n",
    "    DATASET_PATH, \n",
    "    DEVICE, \n",
    "    BATCH_SIZE\n",
    ")"
   ]
  },
  {
   "cell_type": "code",
   "execution_count": 15,
   "id": "955aee78-4c6b-4fb8-9583-f4725ee14f0c",
   "metadata": {},
   "outputs": [
    {
     "name": "stdout",
     "output_type": "stream",
     "text": [
      "Picked index is 43176\n",
      "Image class is 2 - two\n"
     ]
    },
    {
     "data": {
      "image/png": "[encoded data removed]",
      "text/plain": [
       "<Figure size 640x480 with 1 Axes>"
      ]
     },
     "metadata": {},
     "output_type": "display_data"
    },
    {
     "data": {
      "text/plain": [
       "43176"
      ]
     },
     "execution_count": 15,
     "metadata": {},
     "output_type": "execute_result"
    }
   ],
   "source": [
    "display_random_image(train_dataloader.dataset)"
   ]
  },
  {
   "cell_type": "markdown",
   "id": "e46883dc-1b0e-4120-a6bf-fc47052576c4",
   "metadata": {},
   "source": [
    "# My model"
   ]
  },
  {
   "cell_type": "code",
   "execution_count": 16,
   "id": "bf118413-de57-4c36-a8af-eb037a735e14",
   "metadata": {},
   "outputs": [],
   "source": [
    "image_shape = (1, 28,28)\n",
    "latent_space_dim = 16\n",
    "conv_layers = [(1, 128), (128, 64)]\n",
    "perceptron_layers = [(64, 32), (32, 16)]"
   ]
  },
  {
   "cell_type": "code",
   "execution_count": 17,
   "id": "4d58bceb-2f34-4940-9206-465a1b4a219b",
   "metadata": {},
   "outputs": [],
   "source": [
    "my_model = VAE(image_shape, latent_space_dim, conv_layers, perceptron_layers)"
   ]
  },
  {
   "cell_type": "code",
   "execution_count": 18,
   "id": "7d7d5f16-0367-40a2-817b-3302eb5f584e",
   "metadata": {},
   "outputs": [
    {
     "name": "stdout",
     "output_type": "stream",
     "text": [
      "============================================================================================================================================\n",
      "Layer (type:depth-idx)                   Input Shape               Output Shape              Param #                   Trainable\n",
      "============================================================================================================================================\n",
      "VAE                                      [128, 1, 28, 28]          [128, 1, 28, 28]          --                        True\n",
      "├─VAEEncoder: 1-1                        [128, 1, 28, 28]          [128, 32]                 --                        True\n",
      "│    └─Conv2d: 2-1                       [128, 1, 28, 28]          [128, 128, 28, 28]        1,280                     True\n",
      "│    └─BatchNorm2d: 2-2                  [128, 128, 28, 28]        [128, 128, 28, 28]        256                       True\n",
      "│    └─MaxPool2d: 2-3                    [128, 128, 28, 28]        [128, 128, 14, 14]        --                        --\n",
      "│    └─Conv2d: 2-4                       [128, 128, 14, 14]        [128, 64, 14, 14]         73,792                    True\n",
      "│    └─BatchNorm2d: 2-5                  [128, 64, 14, 14]         [128, 64, 14, 14]         128                       True\n",
      "│    └─MaxPool2d: 2-6                    [128, 64, 14, 14]         [128, 64, 7, 7]           --                        --\n",
      "│    └─AvgPool2d: 2-7                    [128, 64, 7, 7]           [128, 64, 1, 1]           --                        --\n",
      "│    └─Flatten: 2-8                      [128, 64, 1, 1]           [128, 64]                 --                        --\n",
      "│    └─Linear: 2-9                       [128, 64]                 [128, 32]                 2,080                     True\n",
      "│    └─ReLU: 2-10                        [128, 32]                 [128, 32]                 --                        --\n",
      "│    └─Linear: 2-11                      [128, 32]                 [128, 16]                 528                       True\n",
      "│    └─ReLU: 2-12                        [128, 16]                 [128, 16]                 --                        --\n",
      "│    └─Linear: 2-13                      [128, 16]                 [128, 32]                 544                       True\n",
      "├─VAEDecoder: 1-2                        [128, 32]                 [128, 1, 28, 28]          --                        True\n",
      "│    └─Sample: 2-14                      [128, 32]                 [128, 16]                 --                        --\n",
      "│    └─Linear: 2-15                      [128, 16]                 [128, 32]                 544                       True\n",
      "│    └─ReLU: 2-16                        [128, 32]                 [128, 32]                 --                        --\n",
      "│    └─Linear: 2-17                      [128, 32]                 [128, 64]                 2,112                     True\n",
      "│    └─ReLU: 2-18                        [128, 64]                 [128, 64]                 --                        --\n",
      "│    └─Linear: 2-19                      [128, 64]                 [128, 3136]               203,840                   True\n",
      "│    └─Reshape: 2-20                     [128, 3136]               [128, 64, 7, 7]           --                        --\n",
      "│    └─Upsample: 2-21                    [128, 64, 7, 7]           [128, 64, 14, 14]         --                        --\n",
      "│    └─ConvTranspose2d: 2-22             [128, 64, 14, 14]         [128, 128, 14, 14]        73,856                    True\n",
      "│    └─BatchNorm2d: 2-23                 [128, 128, 14, 14]        [128, 128, 14, 14]        256                       True\n",
      "│    └─Upsample: 2-24                    [128, 128, 14, 14]        [128, 128, 28, 28]        --                        --\n",
      "│    └─ConvTranspose2d: 2-25             [128, 128, 28, 28]        [128, 1, 28, 28]          1,153                     True\n",
      "│    └─BatchNorm2d: 2-26                 [128, 1, 28, 28]          [128, 1, 28, 28]          2                         True\n",
      "============================================================================================================================================\n",
      "Total params: 360,371\n",
      "Trainable params: 360,371\n",
      "Non-trainable params: 0\n",
      "Total mult-adds (Units.GIGABYTES): 3.98\n",
      "============================================================================================================================================\n",
      "Input size (MB): 0.40\n",
      "Forward/backward pass size (MB): 287.59\n",
      "Params size (MB): 1.44\n",
      "Estimated Total Size (MB): 289.43\n",
      "============================================================================================================================================\n"
     ]
    }
   ],
   "source": [
    "print_model(my_model)"
   ]
  },
  {
   "cell_type": "markdown",
   "id": "a1f07091-5d21-433e-ac45-774029f7d3c2",
   "metadata": {},
   "source": [
    "# Training"
   ]
  },
  {
   "cell_type": "code",
   "execution_count": 19,
   "id": "b2e315c9-a97d-4971-8f20-103f14ecbcfc",
   "metadata": {},
   "outputs": [],
   "source": [
    "optimizer = optim.Adam(my_model.parameters(), lr=LEARNING)"
   ]
  },
  {
   "cell_type": "code",
   "execution_count": 20,
   "id": "70e7f201-6f2c-4a6c-8542-0280ab8a2006",
   "metadata": {},
   "outputs": [],
   "source": [
    "loss_fn = VAELoss()"
   ]
  },
  {
   "cell_type": "code",
   "execution_count": null,
   "id": "7692a1b2-1b06-4f26-b341-1f3c3d9e07fe",
   "metadata": {},
   "outputs": [],
   "source": [
    "train_model(\n",
    "    my_model, \n",
    "    train_dataloader, \n",
    "    test_dataloader, \n",
    "    loss_fn, \n",
    "    optimizer, \n",
    "    EPOCHS\n",
    ")"
   ]
  },
  {
   "cell_type": "code",
   "execution_count": 21,
   "id": "4dc7b55f",
   "metadata": {},
   "outputs": [],
   "source": [
    "MODEL_PATH = ROOT_PATH / \"vae.pth\""
   ]
  },
  {
   "cell_type": "code",
   "execution_count": null,
   "id": "8d5f6f20",
   "metadata": {},
   "outputs": [],
   "source": [
    "torch.save(my_model.state_dict(), MODEL_PATH)"
   ]
  },
  {
   "cell_type": "markdown",
   "id": "cb80f9ed-9b68-472e-af96-48ca0fe2bf6c",
   "metadata": {},
   "source": [
    "# Generating images"
   ]
  },
  {
   "cell_type": "code",
   "execution_count": 22,
   "id": "005d07af",
   "metadata": {},
   "outputs": [
    {
     "data": {
      "text/plain": [
       "<All keys matched successfully>"
      ]
     },
     "execution_count": 22,
     "metadata": {},
     "output_type": "execute_result"
    }
   ],
   "source": [
    "loaded = VAE(image_shape, latent_space_dim, conv_layers, perceptron_layers)\n",
    "loaded.load_state_dict(torch.load(MODEL_PATH))"
   ]
  },
  {
   "cell_type": "code",
   "execution_count": 43,
   "id": "93bc0664-519b-40b7-b108-98432bf714cc",
   "metadata": {},
   "outputs": [
    {
     "name": "stdout",
     "output_type": "stream",
     "text": [
      "Picked index is 9565\n",
      "Image class is 4 - four\n"
     ]
    },
    {
     "data": {
      "image/png": "[encoded data removed]",
      "text/plain": [
       "<Figure size 640x480 with 1 Axes>"
      ]
     },
     "metadata": {},
     "output_type": "display_data"
    }
   ],
   "source": [
    "random_index = display_random_image(test_dataloader.dataset)\n",
    "input_ = test_dataloader.dataset[random_index][0]"
   ]
  },
  {
   "cell_type": "code",
   "execution_count": 44,
   "id": "fe99e8e7",
   "metadata": {},
   "outputs": [
    {
     "data": {
      "image/png": "[encoded data removed]",
      "text/plain": [
       "<Figure size 640x480 with 1 Axes>"
      ]
     },
     "metadata": {},
     "output_type": "display_data"
    }
   ],
   "source": [
    "output = encode_decode(loaded, input_)\n",
    "show_tensor(output)"
   ]
  },
  {
   "cell_type": "code",
   "execution_count": 51,
   "id": "05d904d9-e727-466a-815e-c87e0ce91d36",
   "metadata": {},
   "outputs": [
    {
     "data": {
      "image/png": "[encoded data removed]",
      "text/plain": [
       "<Figure size 640x480 with 1 Axes>"
      ]
     },
     "metadata": {},
     "output_type": "display_data"
    }
   ],
   "source": [
    "mean, logvar = encode(loaded, input_)\n",
    "example = decode(loaded, mean, logvar)\n",
    "show_tensor(example)"
   ]
  }
 ],
 "metadata": {
  "kernelspec": {
   "display_name": "3.11.11",
   "language": "python",
   "name": "python3"
  },
  "language_info": {
   "codemirror_mode": {
    "name": "ipython",
    "version": 3
   },
   "file_extension": ".py",
   "mimetype": "text/x-python",
   "name": "python",
   "nbconvert_exporter": "python",
   "pygments_lexer": "ipython3",
   "version": "3.11.11"
  }
 },
 "nbformat": 4,
 "nbformat_minor": 5
}
